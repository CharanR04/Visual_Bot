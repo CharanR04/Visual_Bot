{
 "cells": [
  {
   "cell_type": "code",
   "execution_count": null,
   "metadata": {},
   "outputs": [],
   "source": [
    "from src.Model import Model\n",
    "import torch\n",
    "import torch.nn.functional as F\n",
    "from tqdm import tqdm\n",
    "from src.Tools import generate_text,get_eos_embedding,update_sequence_mask,get_one_hot\n",
    "from src.Train import one_epoch_caption,one_epoch_QA,train_caption,train_QA\n",
    "from src.Dataset import QADataset,CaptionDataset\n",
    "from torch.utils.data import DataLoader\n",
    "from src.Mean import ImagesDataset\n",
    "\n",
    "version = 1\n",
    "model = Model(model='BERT')"
   ]
  },
  {
   "cell_type": "code",
   "execution_count": null,
   "metadata": {},
   "outputs": [],
   "source": [
    "QA_dataset = QADataset('Data/Annotations/QA/train.json',small=True)\n",
    "Caption_dataset = CaptionDataset('Data/Annotations/Caption/train.json',small=True)\n",
    "data_loader = DataLoader(Caption_dataset, batch_size= 2, shuffle = True)"
   ]
  },
  {
   "cell_type": "code",
   "execution_count": null,
   "metadata": {},
   "outputs": [],
   "source": [
    "optimizer = torch.optim.Adam(model.parameters(), lr=0.001)\n",
    "loss = train_caption(4,model,data_loader,optimizer,version=version+1)"
   ]
  }
 ],
 "metadata": {
  "kernelspec": {
   "display_name": "torch",
   "language": "python",
   "name": "python3"
  },
  "language_info": {
   "codemirror_mode": {
    "name": "ipython",
    "version": 3
   },
   "file_extension": ".py",
   "mimetype": "text/x-python",
   "name": "python",
   "nbconvert_exporter": "python",
   "pygments_lexer": "ipython3",
   "version": "3.11.9"
  }
 },
 "nbformat": 4,
 "nbformat_minor": 2
}
