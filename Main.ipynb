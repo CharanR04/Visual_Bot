{
 "cells": [
  {
   "cell_type": "code",
   "execution_count": 1,
   "metadata": {},
   "outputs": [
    {
     "name": "stderr",
     "output_type": "stream",
     "text": [
      "c:\\Users\\admin\\anaconda3\\envs\\torch-cuda121\\Lib\\site-packages\\huggingface_hub\\file_download.py:1132: FutureWarning: `resume_download` is deprecated and will be removed in version 1.0.0. Downloads always resume when possible. If you want to force a new download, use `force_download=True`.\n",
      "  warnings.warn(\n"
     ]
    }
   ],
   "source": [
    "from src.Model import Model\n",
    "from PIL import Image\n",
    "import torch.nn.functional as F\n",
    "from src.Tools import generate_text\n",
    "from transformers import AlbertTokenizer,ViTImageProcessor\n",
    "version = 1\n",
    "model = Model(_model='BERT',version=version)"
   ]
  },
  {
   "cell_type": "code",
   "execution_count": 15,
   "metadata": {},
   "outputs": [
    {
     "data": {
      "text/plain": [
       "Linear(in_features=768, out_features=2048, bias=True)"
      ]
     },
     "execution_count": 15,
     "metadata": {},
     "output_type": "execute_result"
    }
   ],
   "source": [
    "model.fc"
   ]
  },
  {
   "cell_type": "code",
   "execution_count": 12,
   "metadata": {},
   "outputs": [],
   "source": [
    "import os\n",
    "import torch"
   ]
  },
  {
   "cell_type": "code",
   "execution_count": 2,
   "metadata": {},
   "outputs": [],
   "source": [
    "image = Image.open('Screenshot 2024-05-14 083657.png').convert('RGB')\n",
    "text = \"What is there in this image?\"\n",
    "#txt_out = model.encode_text(text)\n",
    "\n",
    "#merged_out = model.merge(img_out,txt_out)"
   ]
  },
  {
   "cell_type": "code",
   "execution_count": 3,
   "metadata": {},
   "outputs": [],
   "source": [
    "tokenizer = AlbertTokenizer.from_pretrained('albert-base-v2', cache_dir='Cache/Transformers')\n",
    "text_ids = tokenizer(text, return_tensors=\"pt\", truncation=True, max_length=128, padding = 'max_length')"
   ]
  },
  {
   "cell_type": "code",
   "execution_count": 4,
   "metadata": {},
   "outputs": [],
   "source": [
    "image_processor = ViTImageProcessor.from_pretrained('google/vit-base-patch16-224-in21k',cache_dir='Cache/Transformers')\n",
    "image = image_processor(images=image,do_rescale=False,return_tensors=\"pt\")\n",
    "image = image.to('cuda')"
   ]
  },
  {
   "cell_type": "code",
   "execution_count": 5,
   "metadata": {},
   "outputs": [],
   "source": [
    "in_seq,attention_mask = model.get_sequence(image,text_ids)"
   ]
  },
  {
   "cell_type": "code",
   "execution_count": 6,
   "metadata": {},
   "outputs": [],
   "source": [
    "out_seq,at_mask = generate_text(model,image)"
   ]
  },
  {
   "cell_type": "code",
   "execution_count": 10,
   "metadata": {},
   "outputs": [
    {
     "data": {
      "text/plain": [
       "'liter liter liter liter liter liter liter liter liter liter liter liter liter projected projected Crete Crete liter Crete projected projected Crete Crete projected projected Crete projected Crete delivered projected projected delivered delivered delivered delivered deliveredbourne Marketbourne 4 delivered delivered delivered delivered delivered delivered deliveredept pumped 4'"
      ]
     },
     "execution_count": 10,
     "metadata": {},
     "output_type": "execute_result"
    }
   ],
   "source": [
    "model.generator_tokenizer.decode(out_seq)"
   ]
  },
  {
   "cell_type": "code",
   "execution_count": 13,
   "metadata": {},
   "outputs": [],
   "source": [
    "version= 'v_'+str(version)\n",
    "if not os.path.exists(os.path.join(model.dir,model._model, version)):\n",
    "    os.makedirs(os.path.join(model.dir,model._model, version))\n",
    "model.image_encoder.save_pretrained(os.path.join(model.dir,model._model, version,'VIT'))\n",
    "model.text_encoder.save_pretrained(os.path.join(model.dir,model._model, version,'ALBERT'))\n",
    "model.generator.save_pretrained(os.path.join(model.dir,model._model, version,model._model.upper()))\n",
    "torch.save(model.fc.state_dict(), os.path.join(model.dir, model._model, version, 'fc.pth'))\n",
    "torch.save(model.fc1.state_dict(), os.path.join(model.dir, model._model, version, 'fc1.pth'))\n",
    "torch.save(model.fc2.state_dict(), os.path.join(model.dir, model._model, version, 'fc2.pth'))\n",
    "torch.save(model.pipeline.state_dict(), os.path.join(model.dir, model._model, version, 'pipeline.pth'))\n",
    "torch.save(model.classifier.state_dict(), os.path.join(model.dir, model._model, version, 'classifier.pth'))"
   ]
  },
  {
   "cell_type": "code",
   "execution_count": 9,
   "metadata": {},
   "outputs": [
    {
     "data": {
      "text/plain": [
       "tensor([[1, 1, 1, 1, 1, 1, 1, 1, 1, 1, 1, 1, 1, 1, 1, 1, 1, 1, 1, 1, 1, 1, 1, 1,\n",
       "         1, 1, 1, 1, 1, 1, 1, 1, 1, 1, 1, 1, 1, 1, 1, 1, 1, 1, 1, 1, 1, 1, 1, 1,\n",
       "         1, 1, 1, 1, 1, 1, 1, 1, 1, 1, 1, 1, 1, 1, 1, 1, 1, 1, 1, 1, 1, 1, 1, 1,\n",
       "         1, 1, 1, 1, 1, 1, 1, 1, 1, 1, 1, 1, 1, 1, 1, 1, 1, 1, 1, 1, 1, 1, 1, 1,\n",
       "         1, 1, 1, 1, 1, 1, 1, 1, 1, 1, 1, 1, 1, 1, 1, 1, 1, 1, 1, 1, 1, 1, 1, 1,\n",
       "         1, 1, 1, 1, 1, 1, 1, 1, 1, 1, 1, 1, 1, 1, 1, 1, 1, 1, 1, 1, 1, 1, 1, 1,\n",
       "         1, 1, 1, 1, 1, 1, 1, 1, 1, 1, 1, 1, 1, 1, 1, 1, 1, 1, 1, 1, 1, 1, 1, 1,\n",
       "         1, 1, 1, 1, 1, 1, 1, 1, 1, 1, 1, 1, 1, 1, 1, 1, 1, 1, 1, 1, 1, 1, 1, 1,\n",
       "         1, 1, 1, 1, 1, 0, 1, 1, 1, 1, 1, 1, 1, 1, 1, 1, 1, 1, 1, 1, 1, 1, 1, 1,\n",
       "         1, 1, 1, 1, 1, 1, 1, 1, 1, 1, 1, 1, 1, 1, 1, 1, 1, 1, 1, 1, 1, 1, 1, 1,\n",
       "         1, 1, 1, 1, 1, 1, 1, 1]], device='cuda:0')"
      ]
     },
     "execution_count": 9,
     "metadata": {},
     "output_type": "execute_result"
    }
   ],
   "source": [
    "at_mask"
   ]
  }
 ],
 "metadata": {
  "kernelspec": {
   "display_name": "torch",
   "language": "python",
   "name": "python3"
  },
  "language_info": {
   "codemirror_mode": {
    "name": "ipython",
    "version": 3
   },
   "file_extension": ".py",
   "mimetype": "text/x-python",
   "name": "python",
   "nbconvert_exporter": "python",
   "pygments_lexer": "ipython3",
   "version": "3.11.9"
  }
 },
 "nbformat": 4,
 "nbformat_minor": 2
}
